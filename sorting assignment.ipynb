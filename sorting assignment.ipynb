{
 "cells": [
  {
   "cell_type": "code",
   "execution_count": null,
   "id": "6d1498af-d7a1-41a6-9561-742ca654dcd0",
   "metadata": {},
   "outputs": [],
   "source": [
    "Practice Questions\n",
    "\n",
    "Problem 1.Given an array of n numbers, give an algorithm which gives the element appearing maximum\n",
    "number of times?"
   ]
  },
  {
   "cell_type": "code",
   "execution_count": 3,
   "id": "ffa9efc3-e7de-4369-9e11-557fcb570df5",
   "metadata": {},
   "outputs": [
    {
     "name": "stdout",
     "output_type": "stream",
     "text": [
      "The element appearing the most number of times is: 2\n"
     ]
    }
   ],
   "source": [
    "def find_frequency(arr):\n",
    "    frequency = {}\n",
    "    max_freq_element = None\n",
    "    max_freq = 0\n",
    "   \n",
    "    for num in arr:\n",
    "        if num in frequency:\n",
    "            frequency[num] += 1\n",
    "        else:\n",
    "            frequency[num] = 1\n",
    "        # Update the maximum frequency element and count\n",
    "        if frequency[num] > max_freq:\n",
    "            max_freq = frequency[num]\n",
    "            max_freq_element = num\n",
    "            \n",
    "    return max_freq_element\n",
    "\n",
    "arr = [1, 2, 7, 9, 1, 2, 5, 2]\n",
    "result = find_frequency(arr)\n",
    "print(f\"The element appearing the most number of times is: {result}\")\n",
    "\n",
    "\n",
    "            "
   ]
  },
  {
   "cell_type": "code",
   "execution_count": null,
   "id": "67f7f777-a874-4ad4-8269-1c1fc6f3da21",
   "metadata": {},
   "outputs": [],
   "source": [
    "Problem 2 : We are given a list of n-1 integers and these integers are in the range of 1 to n . There are no\n",
    "duplicates in the list. One of the integers is missing in the list. Give an algorithm to find that element Ex:\n",
    "[1,2,4,6,3,7,8] 5 is the missing num."
   ]
  },
  {
   "cell_type": "code",
   "execution_count": 7,
   "id": "cdb6247e-ee95-4157-b291-77d871cd359c",
   "metadata": {},
   "outputs": [
    {
     "name": "stdout",
     "output_type": "stream",
     "text": [
      "The missing number in the sequence is: 5\n"
     ]
    }
   ],
   "source": [
    "def find_missing_number(arr):\n",
    "    n = len(arr) + 1  # Calculate the expected length of the sequence (including the missing number)\n",
    "    total_sum = n * (n + 1) // 2  # Calculate the sum of integers from 1 to n\n",
    "\n",
    "    arr_sum = sum(arr)  # Calculate the sum of elements in the given array\n",
    "\n",
    "    return total_sum - arr_sum  # Find the missing number by subtracting array sum from the expected sum\n",
    "\n",
    "\n",
    "# Example usage:\n",
    "arr = [1, 2, 4, 6, 3, 7, 8]\n",
    "missing = find_missing_number(arr)\n",
    "print(f\"The missing number in the sequence is: {missing}\")\n"
   ]
  },
  {
   "cell_type": "code",
   "execution_count": 8,
   "id": "4743b5da-e6bd-48ce-a077-4f4b4354b9c2",
   "metadata": {},
   "outputs": [
    {
     "name": "stdout",
     "output_type": "stream",
     "text": [
      "The missing number in the sequence is: 5\n"
     ]
    }
   ],
   "source": [
    "def find_missing_number_xor(arr):\n",
    "    n = len(arr) + 1  # Calculate the expected length of the sequence (including the missing number)\n",
    "\n",
    "    # Initialize variables to hold XOR results\n",
    "    xor_expected = 0\n",
    "    xor_actual = 0\n",
    "\n",
    "    # Calculate XOR of numbers from 1 to n (expected XOR)\n",
    "    for i in range(1, n + 1):\n",
    "        xor_expected ^= i\n",
    "\n",
    "    # Calculate XOR of elements in the given array (actual XOR)\n",
    "    for num in arr:\n",
    "        xor_actual ^= num\n",
    "\n",
    "    # XOR the expected XOR with actual XOR to find the missing number\n",
    "    missing = xor_expected ^ xor_actual\n",
    "\n",
    "    return missing\n",
    "\n",
    "\n",
    "# Example usage:\n",
    "arr = [1, 2, 4, 6, 3, 7, 8]\n",
    "missing_number = find_missing_number_xor(arr)\n",
    "print(f\"The missing number in the sequence is: {missing_number}\")\n"
   ]
  },
  {
   "cell_type": "code",
   "execution_count": null,
   "id": "485d2d9f-5707-4cd7-8d8d-88f018f58203",
   "metadata": {},
   "outputs": [],
   "source": [
    "Problem 3 : Given an array of n positive numbers. All numbers occurs even number of times except 1 which\n",
    "occurs odd number of times. Find that number in O(n) time and O(1) space. Ex: [1,2,3,2,3,1,3]. 3 is repeats odd\n",
    "times."
   ]
  },
  {
   "cell_type": "code",
   "execution_count": 9,
   "id": "5b4f902d-c6a1-4ed7-b3df-d33e53233c0c",
   "metadata": {},
   "outputs": [
    {
     "name": "stdout",
     "output_type": "stream",
     "text": [
      "The number occurring odd number of times is: 3\n"
     ]
    }
   ],
   "source": [
    "def find_odd_occurrence(arr):\n",
    "    result = 0\n",
    "\n",
    "    # XOR all elements in the array\n",
    "    for num in arr:\n",
    "        result ^= num\n",
    "\n",
    "    return result\n",
    "\n",
    "\n",
    "# Example usage:\n",
    "arr = [1, 2, 3, 2, 3, 1, 3]\n",
    "odd_occurrence = find_odd_occurrence(arr)\n",
    "print(f\"The number occurring odd number of times is: {odd_occurrence}\")\n"
   ]
  },
  {
   "cell_type": "code",
   "execution_count": null,
   "id": "927b19f9-f8ad-482d-8c2d-e78b598d5f2b",
   "metadata": {},
   "outputs": [],
   "source": [
    "Problem 4 : Given an array of n elements. Find two elements in the array such that their sum is equal to given\n",
    "element K."
   ]
  },
  {
   "cell_type": "code",
   "execution_count": 14,
   "id": "5d438b58-d18a-4f49-b00d-f2334fcb0143",
   "metadata": {},
   "outputs": [
    {
     "name": "stdout",
     "output_type": "stream",
     "text": [
      "The pairs of indices whose elements sum to 11 are:\n",
      "(3, 4)\n"
     ]
    }
   ],
   "source": [
    "def sumofarr(arr, k):\n",
    "    i = 0\n",
    "    j = len(arr) - 1\n",
    "    pairs = []  # Store pairs of indices\n",
    "    \n",
    "    while i < j:\n",
    "        _sum = arr[i] + arr[j]\n",
    "        if _sum == k:\n",
    "            pairs.append((i, j))  # Store the indices as a tuple\n",
    "            i += 1  # Increment i to find other possible pairs\n",
    "            j -= 1  # Decrement j to find other possible pairs\n",
    "        elif _sum > k:\n",
    "            j -= 1\n",
    "        else:\n",
    "            i += 1\n",
    "    \n",
    "    return pairs if pairs else None  # Return pairs or None if no pair is found\n",
    "\n",
    "arr = [1, 3, 7, 9, 2]\n",
    "K = 11\n",
    "result = sumofarr(arr, K)\n",
    "\n",
    "if result:\n",
    "    print(f\"The pairs of indices whose elements sum to {K} are:\")\n",
    "    for pair in result:\n",
    "        print(pair)\n",
    "else:\n",
    "    print(\"No such pair found.\")\n",
    "\n",
    "\n",
    "            \n",
    "            "
   ]
  },
  {
   "cell_type": "code",
   "execution_count": null,
   "id": "4b2034ea-b1af-4dba-a0a1-97885b4dc28e",
   "metadata": {},
   "outputs": [],
   "source": [
    "Problem 6 : Given an array of n elements . Find three elements such that their sum is equal to the given\n",
    "number."
   ]
  },
  {
   "cell_type": "code",
   "execution_count": 15,
   "id": "c79af2f9-5ec8-4616-8d2b-c671f36c03d5",
   "metadata": {},
   "outputs": [
    {
     "name": "stdout",
     "output_type": "stream",
     "text": [
      "The triplets whose elements sum to 22 are:\n",
      "(4, 6, 12)\n",
      "(4, 8, 10)\n"
     ]
    }
   ],
   "source": [
    "def three_sum(arr, target):\n",
    "    arr.sort()  # Sort the array to efficiently apply two-pointer technique\n",
    "    n = len(arr)\n",
    "    result = []\n",
    "\n",
    "    for i in range(n - 2):\n",
    "        left = i + 1\n",
    "        right = n - 1\n",
    "\n",
    "        while left < right:\n",
    "            _sum = arr[i] + arr[left] + arr[right]\n",
    "\n",
    "            if _sum == target:\n",
    "                result.append((arr[i], arr[left], arr[right]))\n",
    "                left += 1  # Move the left pointer forward\n",
    "                right -= 1  # Move the right pointer backward\n",
    "            elif _sum < target:\n",
    "                left += 1\n",
    "            else:\n",
    "                right -= 1\n",
    "\n",
    "    return result if result else None\n",
    "\n",
    "# Example usage:\n",
    "arr = [1, 4, 45, 6, 10, 8, 12]\n",
    "target = 22\n",
    "result = three_sum(arr, target)\n",
    "\n",
    "if result:\n",
    "    print(f\"The triplets whose elements sum to {target} are:\")\n",
    "    for triplet in result:\n",
    "        print(triplet)\n",
    "else:\n",
    "    print(\"No such triplets found.\")\n"
   ]
  },
  {
   "cell_type": "code",
   "execution_count": null,
   "id": "b0bb77f9-18b7-48ca-82e1-df04573ee2c4",
   "metadata": {},
   "outputs": [],
   "source": [
    "Problem 7 : Given an array of n elements . Find three elements i, j, k in the array such that\n",
    "i * i + j * j = k*k."
   ]
  },
  {
   "cell_type": "code",
   "execution_count": 3,
   "id": "b5556781-7f74-4351-b258-6469000f19db",
   "metadata": {},
   "outputs": [
    {
     "name": "stdout",
     "output_type": "stream",
     "text": [
      "(3, 4, 5)\n"
     ]
    }
   ],
   "source": [
    "def find_pyth(arr):\n",
    "    n = len(arr)\n",
    "    arr.sort()\n",
    "    for k in range(n-1,1,-1):\n",
    "        left  = 0\n",
    "        right = k-1\n",
    "        while(left<right):\n",
    "            if arr[left]*arr[left] + arr[right]*arr[right] == arr[k]*arr[k]:\n",
    "                return (arr[left],arr[right],arr[k])\n",
    "            elif arr[left] * arr[left] + arr[right]*arr[right] < arr[k] *arr[k]:\n",
    "                left += 1\n",
    "            else:\n",
    "                right -= right\n",
    "    return None\n",
    "arr = [3,1,4,6,5]\n",
    "result = find_pyth(arr)\n",
    "if result:\n",
    "    print(result)\n",
    "else:\n",
    "    print(\"no pythogoras\")"
   ]
  },
  {
   "cell_type": "code",
   "execution_count": null,
   "id": "fb27ec58-2f1a-4f8a-b764-dbb4c7dcf1a4",
   "metadata": {},
   "outputs": [],
   "source": [
    "Problem 8 : An element is a majority if it appears more than n/2 times. Give an algorithm takes an array of n\n",
    "element as argument and identifies a majority (if it exists)."
   ]
  },
  {
   "cell_type": "code",
   "execution_count": 9,
   "id": "cfb11370-da28-47bc-b9fd-6ccb30d6d015",
   "metadata": {},
   "outputs": [
    {
     "name": "stdout",
     "output_type": "stream",
     "text": [
      "The majority element is: 2\n"
     ]
    }
   ],
   "source": [
    "def find_majority_element(nums):\n",
    "    candidate = None\n",
    "    count = 0\n",
    "\n",
    "    for num in nums:\n",
    "        if count == 0:\n",
    "            candidate = num\n",
    "            count = 1\n",
    "        elif num == candidate:\n",
    "            count += 1\n",
    "        else:\n",
    "            count -= 1\n",
    "\n",
    "    # At this point, candidate might be the majority element\n",
    "    # Verify if it occurs more than n/2 times\n",
    "    count = 0\n",
    "    for num in nums:\n",
    "        if num == candidate:\n",
    "            count += 1\n",
    "\n",
    "    if count > len(nums) // 2:\n",
    "        return candidate\n",
    "    else:\n",
    "        return None  # No majority element found\n",
    "\n",
    "# Example usage:\n",
    "arr = [2,2,1,1,1,2,2]\n",
    "result = find_majority_element(arr)\n",
    "if result:\n",
    "    print(f\"The majority element is: {result}\")\n",
    "else:\n",
    "    print(\"No majority element found.\")\n",
    "\n"
   ]
  },
  {
   "cell_type": "code",
   "execution_count": null,
   "id": "eb00da28-b9c7-4687-a011-435fd5f3ad8f",
   "metadata": {},
   "outputs": [],
   "source": [
    "Problem 9 : Given n × n matrix, and in each row all 1’s are followed by 0’s. Find the row with the maximum\n",
    "number of 0’s."
   ]
  },
  {
   "cell_type": "code",
   "execution_count": 10,
   "id": "c9d8a46b-35d9-40f7-b4e1-4008ea2bb309",
   "metadata": {},
   "outputs": [
    {
     "name": "stdout",
     "output_type": "stream",
     "text": [
      "The row with the maximum number of zeros is: 3\n"
     ]
    }
   ],
   "source": [
    "def max_zeros_row(matrix):\n",
    "    n = len(matrix)\n",
    "    max_zeros = 0\n",
    "    max_zeros_row_index = -1\n",
    "\n",
    "    # Start from the rightmost column of the first row\n",
    "    col = n - 1\n",
    "    row = 0\n",
    "\n",
    "    while col >= 0 and row < n:\n",
    "        # If current element is 0, move left to count more zeros\n",
    "        if matrix[row][col] == 0:\n",
    "            max_zeros_row_index = row\n",
    "            col -= 1\n",
    "            max_zeros += 1\n",
    "        else:\n",
    "            # If current element is 1, move down to the next row\n",
    "            row += 1\n",
    "\n",
    "    return max_zeros_row_index\n",
    "\n",
    "# Example usage:\n",
    "matrix = [\n",
    "    [1, 1, 1, 0],\n",
    "    [1, 1, 0, 0],\n",
    "    [1, 0, 0, 0],\n",
    "    [1, 1, 1, 1]\n",
    "]\n",
    "\n",
    "result = max_zeros_row(matrix)\n",
    "if result != -1:\n",
    "    print(f\"The row with the maximum number of zeros is: {result + 1}\")  # Adding 1 for human-readable indexing\n",
    "else:\n",
    "    print(\"No row with zeros found.\")\n"
   ]
  },
  {
   "cell_type": "code",
   "execution_count": null,
   "id": "3f94fc00-2166-4c71-a4da-42df950e00a0",
   "metadata": {},
   "outputs": [],
   "source": [
    "Problem 10 : Sort an array of 0’s, 1’s and 2’s [or R’s, G’s and B’s]: Given an array A[] consisting of 0’s, 1’s and\n",
    "2’s, give an algorithm for sorting A[].The algorithm should put all 0’s first, then all 1’s and finally all 2’s at the\n",
    "end. Example Input = {0,1,1,0,1,2,1,2,0,0,0,1}, Output = {0,0,0,0,0,1,1,1,1,1,2,2}"
   ]
  },
  {
   "cell_type": "code",
   "execution_count": null,
   "id": "34a884aa-9642-41a2-b28e-7d78d388c575",
   "metadata": {},
   "outputs": [],
   "source": [
    "def sort(arr):\n",
    "    low  = 0\n",
    "    mid = 0\n",
    "    high = len(arr)-1\n",
    "    while(mid<high):\n",
    "         switch(nums[mid])\n",
    "            \n",
    "                case 0:\n",
    "                    {\n",
    "                        swap(nums[low],nums[mid]);\n",
    "                            low++;\n",
    "                        mid++;\n",
    "                        break;\n",
    "                    }\n",
    "                case 1:\n",
    "                    {\n",
    "                        mid++;\n",
    "                        break;\n",
    "                    }\n",
    "                case 2:\n",
    "                    {\n",
    "                        swap(nums[mid],nums[high]);\n",
    "                        high--;\n",
    "                        break;\n",
    "                    }"
   ]
  }
 ],
 "metadata": {
  "kernelspec": {
   "display_name": "Python 3 (ipykernel)",
   "language": "python",
   "name": "python3"
  },
  "language_info": {
   "codemirror_mode": {
    "name": "ipython",
    "version": 3
   },
   "file_extension": ".py",
   "mimetype": "text/x-python",
   "name": "python",
   "nbconvert_exporter": "python",
   "pygments_lexer": "ipython3",
   "version": "3.10.8"
  }
 },
 "nbformat": 4,
 "nbformat_minor": 5
}
